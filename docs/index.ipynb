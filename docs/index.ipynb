{
 "cells": [
  {
   "cell_type": "raw",
   "metadata": {
    "vscode": {
     "languageId": "raw"
    }
   },
   "source": [
    "---\n",
    "title: The Title\n",
    "authors:\n",
    "  - name: Pantelis Monogioudis, Ph.D\n",
    "    affiliation: your-affiliation\n",
    "    roles: writing\n",
    "    corresponding: true\n",
    "  - name: My Collaborator\n",
    "    affiliation: their-affiliation\n",
    "    roles: writing\n",
    "    corresponding: true\n",
    "bibliography: references.bib\n",
    "date: 2024-01-01\n",
    "---\n"
   ]
  },
  {
   "cell_type": "markdown",
   "metadata": {},
   "source": [
    "## Introduction\n",
    "\n",
    "In this assignment / project "
   ]
  },
  {
   "cell_type": "code",
   "execution_count": null,
   "metadata": {},
   "outputs": [],
   "source": []
  }
 ],
 "metadata": {
  "kernelspec": {
   "display_name": ".venv",
   "language": "python",
   "name": "python3"
  },
  "language_info": {
   "name": "python",
   "version": "3.12.3"
  }
 },
 "nbformat": 4,
 "nbformat_minor": 2
}
